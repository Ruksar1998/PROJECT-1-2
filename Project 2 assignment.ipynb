{
 "cells": [
  {
   "cell_type": "markdown",
   "metadata": {},
   "source": [
    "# Assignment Day 6|18th December 2020"
   ]
  },
  {
   "cell_type": "code",
   "execution_count": 1,
   "metadata": {},
   "outputs": [
    {
     "name": "stdout",
     "output_type": "stream",
     "text": [
      "Collecting secure-smtplib\n",
      "  Downloading secure_smtplib-0.1.1-py2.py3-none-any.whl (3.4 kB)\n",
      "Installing collected packages: secure-smtplib\n",
      "Successfully installed secure-smtplib-0.1.1\n"
     ]
    }
   ],
   "source": [
    "!pip install secure-smtplib"
   ]
  },
  {
   "cell_type": "code",
   "execution_count": 3,
   "metadata": {},
   "outputs": [
    {
     "data": {
      "text/plain": [
       "(221, b'2.0.0 closing connection x12sm9257264pfj.25 - gsmtp')"
      ]
     },
     "execution_count": 3,
     "metadata": {},
     "output_type": "execute_result"
    }
   ],
   "source": [
    "import smtplib\n",
    "server=smtplib.SMTP_SSL(\"smtp.gmail.com\",465)\n",
    "server.login(\"begumruksar04@gmail.com\",'ruku4128')\n",
    "server.sendmail(\"begumruksar04@gmail.com\",\"dadirag174@hafutv.com\",\"Hello how ru?\")\n",
    "server.quit()"
   ]
  },
  {
   "cell_type": "code",
   "execution_count": null,
   "metadata": {},
   "outputs": [],
   "source": []
  }
 ],
 "metadata": {
  "kernelspec": {
   "display_name": "Python 3",
   "language": "python",
   "name": "python3"
  },
  "language_info": {
   "codemirror_mode": {
    "name": "ipython",
    "version": 3
   },
   "file_extension": ".py",
   "mimetype": "text/x-python",
   "name": "python",
   "nbconvert_exporter": "python",
   "pygments_lexer": "ipython3",
   "version": "3.8.5"
  }
 },
 "nbformat": 4,
 "nbformat_minor": 4
}
